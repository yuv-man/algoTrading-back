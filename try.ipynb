{
 "cells": [
  {
   "cell_type": "code",
   "execution_count": 1,
   "id": "d6315f14-9b86-441a-826f-928a42809ee4",
   "metadata": {},
   "outputs": [],
   "source": [
    "from tradingApp import TradingApplication"
   ]
  },
  {
   "cell_type": "code",
   "execution_count": 2,
   "id": "11dea711-2eed-4c66-bd4b-834e20c8106b",
   "metadata": {},
   "outputs": [],
   "source": [
    "app = TradingApplication()"
   ]
  },
  {
   "cell_type": "code",
   "execution_count": 3,
   "id": "dbb63eb3-bca2-4f74-89b9-55fb1cdddfad",
   "metadata": {},
   "outputs": [
    {
     "name": "stderr",
     "output_type": "stream",
     "text": [
      "2025-01-23 15:32:18,784 - tradingApp - INFO - Strategy registered: RSI for SPY\n"
     ]
    },
    {
     "name": "stdout",
     "output_type": "stream",
     "text": [
      "Strategy Registration: {'status': 'success', 'message': 'Strategy registered', 'details': {'strategy_type': 'RSI', 'symbol': 'SPY', 'params': {'rsi_period': 14, 'overbought': 70, 'oversold': 30, 'position_size': 100}}}\n"
     ]
    }
   ],
   "source": [
    "result = app.register_strategy(\n",
    "    strategy_type='RSI',\n",
    "    symbol=\"SPY\",\n",
    "    params={\n",
    "            'rsi_period': 14,\n",
    "            'overbought': 70,\n",
    "            'oversold': 30,\n",
    "            'position_size': 100\n",
    "    }\n",
    ")\n",
    "print(\"Strategy Registration:\", result)"
   ]
  },
  {
   "cell_type": "code",
   "execution_count": 4,
   "id": "256138bc-652f-4db2-8a7e-15d1e878ffa5",
   "metadata": {},
   "outputs": [
    {
     "name": "stderr",
     "output_type": "stream",
     "text": [
      "2025-01-20 15:41:31,923 - ibapi.client - INFO - sent startApi\n",
      "2025-01-20 15:41:31,924 - ibapi.client - INFO - REQUEST startApi {}\n",
      "2025-01-20 15:41:31,925 - ibapi.client - INFO - SENDING startApi b'\\x00\\x00\\x00\\x0b71\\x002\\x008014\\x00\\x00'\n",
      "2025-01-20 15:41:31,925 - IBKRWrapper - INFO - Connected to IBKR\n",
      "2025-01-20 15:41:31,925 - trading_engine - INFO - Attempting socket connection to 127.0.0.1:7497\n",
      "2025-01-20 15:41:31,926 - trading_engine - INFO - Successfully connected to IBKR\n",
      "2025-01-20 15:41:31,926 - IBKRWrapper - INFO - Making reqHistoricalData call with:\n",
      "2025-01-20 15:41:31,927 - IBKRWrapper - INFO - reqId: 1\n",
      "2025-01-20 15:41:31,927 - IBKRWrapper - INFO - contract: 0,SPY,STK,,0.0,,,SMART,,USD,,,False,,combo:\n",
      "2025-01-20 15:41:31,928 - IBKRWrapper - INFO - durationStr: 1 D\n",
      "2025-01-20 15:41:31,928 - IBKRWrapper - INFO - barSizeSetting: 15 mins\n",
      "2025-01-20 15:41:31,928 - ibapi.client - INFO - REQUEST reqHistoricalData {'reqId': 1, 'contract': 2438939017296: 0,SPY,STK,,0.0,,,SMART,,USD,,,False,,combo:, 'endDateTime': '', 'durationStr': '1 D', 'barSizeSetting': '15 mins', 'whatToShow': 'ADJUSTED_LAST', 'useRTH': 1, 'formatDate': 1, 'keepUpToDate': 0, 'chartOptions': []}\n",
      "2025-01-20 15:41:31,929 - ibapi.client - INFO - SENDING reqHistoricalData b'\\x00\\x00\\x00G20\\x001\\x000\\x00SPY\\x00STK\\x00\\x000.0\\x00\\x00\\x00SMART\\x00\\x00USD\\x00\\x00\\x000\\x00\\x0015 mins\\x001 D\\x001\\x00ADJUSTED_LAST\\x001\\x000\\x00\\x00'\n",
      "2025-01-20 15:41:31,931 - ibapi.wrapper - INFO - ANSWER managedAccounts {'accountsList': 'DU8653459'}\n",
      "2025-01-20 15:41:31,953 - IBKRWrapper - ERROR - Error 2110: Connectivity between TWS and server is broken. It will be restored automatically.\n",
      "2025-01-20 15:41:31,954 - IBKRWrapper - WARNING - Main connection lost. Attempting to reconnect...\n",
      "2025-01-20 15:41:31,956 - IBKRWrapper - INFO - Reconnection attempt 1/5\n",
      "2025-01-20 15:41:31,959 - IBKRWrapper - ERROR - Error 2103: Market data farm connection is broken:usfarm.nj\n",
      "2025-01-20 15:41:31,960 - IBKRWrapper - ERROR - Error 2103: Market data farm connection is broken:cashfarm\n",
      "2025-01-20 15:41:31,961 - IBKRWrapper - ERROR - Error 2103: Market data farm connection is broken:usfarm\n",
      "2025-01-20 15:41:31,962 - IBKRWrapper - ERROR - Error 2105: HMDS data farm connection is broken:euhmds\n",
      "2025-01-20 15:41:31,962 - IBKRWrapper - ERROR - Error 2105: HMDS data farm connection is broken:fundfarm\n",
      "2025-01-20 15:41:31,963 - IBKRWrapper - ERROR - Error 2105: HMDS data farm connection is broken:ushmds\n",
      "2025-01-20 15:41:31,964 - IBKRWrapper - ERROR - Error 2157: Sec-def data farm connection is broken:secdefil\n"
     ]
    },
    {
     "name": "stdout",
     "output_type": "stream",
     "text": [
      "dont know\n",
      "Requesting historical data for SPY\n",
      "Next Valid Order ID: 1\n"
     ]
    },
    {
     "name": "stderr",
     "output_type": "stream",
     "text": [
      "2025-01-20 15:41:41,683 - IBKRWrapper - ERROR - Error 2106: HMDS data farm connection is OK:euhmds\n",
      "2025-01-20 15:41:42,078 - IBKRWrapper - ERROR - Error 2106: HMDS data farm connection is OK:fundfarm\n",
      "2025-01-20 15:41:42,104 - IBKRWrapper - ERROR - Error 2106: HMDS data farm connection is OK:ushmds\n",
      "2025-01-20 15:41:42,121 - IBKRWrapper - ERROR - Error 2158: Sec-def data farm connection is OK:secdefil\n",
      "2025-01-20 15:41:42,263 - IBKRWrapper - ERROR - Error 2104: Market data farm connection is OK:cashfarm\n",
      "2025-01-20 15:41:42,398 - IBKRWrapper - ERROR - Error 2104: Market data farm connection is OK:usfarm\n",
      "2025-01-20 15:41:42,567 - IBKRWrapper - ERROR - Error 2104: Market data farm connection is OK:usfarm.nj\n",
      "2025-01-20 15:41:43,023 - IBKRWrapper - ERROR - Error 1102: Connectivity between IBKR and TWS has been restored - data maintained. All data farms are connected: usfarm.nj; cashfarm; usfarm; euhmds; fundfarm; ushmds; secdefil.\n",
      "2025-01-20 15:41:43,914 - IBKRWrapper - ERROR - Error 2176: Warning: Your API version does not support fractional share size rules. Please upgrade to a minimum version 163. Trimmed value 34347.7 to 34347\n",
      "2025-01-20 15:41:43,915 - IBKRWrapper - INFO - Historical data complete - 20250119  15:41:31 to 20250120  15:41:31\n",
      "2025-01-20 15:41:44,927 - trading_engine - ERROR - Error fetching historical data: Not connected to IBKR\n",
      "2025-01-20 15:41:44,928 - tradingApp - ERROR - Error during backtest: Not connected to IBKR\n"
     ]
    },
    {
     "name": "stdout",
     "output_type": "stream",
     "text": [
      "Error requesting historical data: Not connected to IBKR\n"
     ]
    },
    {
     "name": "stderr",
     "output_type": "stream",
     "text": [
      "2025-01-20 15:42:01,970 - ibapi.client - INFO - sent startApi\n",
      "2025-01-20 15:42:01,971 - ibapi.client - INFO - REQUEST startApi {}\n",
      "2025-01-20 15:42:01,972 - ibapi.client - INFO - SENDING startApi b'\\x00\\x00\\x00\\x0871\\x002\\x001\\x00\\x00'\n",
      "2025-01-20 15:42:01,972 - IBKRWrapper - INFO - Connected to IBKR\n",
      "2025-01-20 15:42:01,973 - IBKRWrapper - INFO - Successfully reconnected\n",
      "2025-01-20 15:42:01,975 - ibapi.wrapper - INFO - ANSWER managedAccounts {'accountsList': 'DU8653459'}\n",
      "2025-01-20 15:42:01,986 - IBKRWrapper - ERROR - Error 2104: Market data farm connection is OK:usfarm.nj\n",
      "2025-01-20 15:42:01,987 - IBKRWrapper - ERROR - Error 2104: Market data farm connection is OK:cashfarm\n",
      "2025-01-20 15:42:01,988 - IBKRWrapper - ERROR - Error 2104: Market data farm connection is OK:usfarm\n",
      "2025-01-20 15:42:01,988 - IBKRWrapper - ERROR - Error 2106: HMDS data farm connection is OK:euhmds\n",
      "2025-01-20 15:42:01,988 - IBKRWrapper - ERROR - Error 2106: HMDS data farm connection is OK:fundfarm\n",
      "2025-01-20 15:42:01,989 - IBKRWrapper - ERROR - Error 2106: HMDS data farm connection is OK:ushmds\n",
      "2025-01-20 15:42:01,989 - IBKRWrapper - ERROR - Error 2158: Sec-def data farm connection is OK:secdefil\n"
     ]
    },
    {
     "name": "stdout",
     "output_type": "stream",
     "text": [
      "Next Valid Order ID: 11\n"
     ]
    },
    {
     "name": "stderr",
     "output_type": "stream",
     "text": [
      "2025-01-20 18:22:38,160 - IBKRWrapper - ERROR - Error 2103: Market data farm connection is broken:usfarm\n",
      "2025-01-20 18:22:38,190 - IBKRWrapper - ERROR - Error 2103: Market data farm connection is broken:usfarm\n",
      "2025-01-20 18:22:38,370 - IBKRWrapper - ERROR - Error 2103: Market data farm connection is broken:usfarm.nj\n",
      "2025-01-20 18:22:38,374 - IBKRWrapper - ERROR - Error 2103: Market data farm connection is broken:usfarm.nj\n",
      "2025-01-20 18:22:38,376 - IBKRWrapper - ERROR - Error 2103: Market data farm connection is broken:cashfarm\n",
      "2025-01-20 18:22:38,378 - IBKRWrapper - ERROR - Error 2103: Market data farm connection is broken:cashfarm\n",
      "2025-01-20 18:22:41,028 - IBKRWrapper - ERROR - Error 1100: Connectivity between IBKR and TWS has been lost.\n",
      "2025-01-20 18:22:41,030 - IBKRWrapper - ERROR - Error 1100: Connectivity between IBKR and TWS has been lost.\n",
      "2025-01-20 18:22:41,507 - IBKRWrapper - ERROR - Error 2104: Market data farm connection is OK:usfarm\n",
      "2025-01-20 18:22:41,509 - IBKRWrapper - ERROR - Error 2104: Market data farm connection is OK:usfarm\n",
      "2025-01-20 18:22:41,913 - IBKRWrapper - ERROR - Error 2104: Market data farm connection is OK:cashfarm\n",
      "2025-01-20 18:22:41,914 - IBKRWrapper - ERROR - Error 2104: Market data farm connection is OK:cashfarm\n",
      "2025-01-20 18:22:42,018 - IBKRWrapper - ERROR - Error 2104: Market data farm connection is OK:usfarm.nj\n",
      "2025-01-20 18:22:42,020 - IBKRWrapper - ERROR - Error 2104: Market data farm connection is OK:usfarm.nj\n"
     ]
    }
   ],
   "source": [
    "backtest_results = app.run_backtest(\n",
    "    interval=\"15 mins\",\n",
    "    period=\"1 D\")"
   ]
  },
  {
   "cell_type": "code",
   "execution_count": 3,
   "id": "67a0b7a9-9325-49cd-a97e-97440f29990a",
   "metadata": {},
   "outputs": [
    {
     "name": "stdout",
     "output_type": "stream",
     "text": [
      "{'success': True, 'message': 'Successfully added strategy: SimpleMovingAverageStrategy', 'errors': []}\n",
      "None\n"
     ]
    }
   ],
   "source": [
    "strategy_json = '''{\n",
    "        \"name\": \"SimpleMovingAverageStrategy\",\n",
    "        \"init_params\": \"super().__init__(symbol, params)\",\n",
    "        \"calculate_signals_body\": \"return data\",\n",
    "        \"generate_trade_decision_body\": \"return None, None, None\"\n",
    "    }'''\n",
    "\n",
    "# Add the strategy\n",
    "result = app.add_strategy(strategy_json)\n",
    "print(result)"
   ]
  },
  {
   "cell_type": "code",
   "execution_count": 7,
   "id": "24f55461-ea16-451e-b384-abf0ad583bac",
   "metadata": {},
   "outputs": [
    {
     "data": {
      "text/html": [
       "<div>\n",
       "<style scoped>\n",
       "    .dataframe tbody tr th:only-of-type {\n",
       "        vertical-align: middle;\n",
       "    }\n",
       "\n",
       "    .dataframe tbody tr th {\n",
       "        vertical-align: top;\n",
       "    }\n",
       "\n",
       "    .dataframe thead th {\n",
       "        text-align: right;\n",
       "    }\n",
       "</style>\n",
       "<table border=\"1\" class=\"dataframe\">\n",
       "  <thead>\n",
       "    <tr style=\"text-align: right;\">\n",
       "      <th></th>\n",
       "      <th>open</th>\n",
       "      <th>high</th>\n",
       "      <th>low</th>\n",
       "      <th>close</th>\n",
       "      <th>volume</th>\n",
       "      <th>barcount</th>\n",
       "      <th>daily_trend</th>\n",
       "      <th>last_daily_peak</th>\n",
       "      <th>last_daily_trough</th>\n",
       "    </tr>\n",
       "    <tr>\n",
       "      <th>timestamp</th>\n",
       "      <th></th>\n",
       "      <th></th>\n",
       "      <th></th>\n",
       "      <th></th>\n",
       "      <th></th>\n",
       "      <th></th>\n",
       "      <th></th>\n",
       "      <th></th>\n",
       "      <th></th>\n",
       "    </tr>\n",
       "  </thead>\n",
       "  <tbody>\n",
       "    <tr>\n",
       "      <th>2024-11-21 16:30:00</th>\n",
       "      <td>419.50</td>\n",
       "      <td>419.78</td>\n",
       "      <td>417.25</td>\n",
       "      <td>417.50</td>\n",
       "      <td>7204</td>\n",
       "      <td>2678</td>\n",
       "      <td>uptrend</td>\n",
       "      <td>428.47</td>\n",
       "      <td>409.75</td>\n",
       "    </tr>\n",
       "    <tr>\n",
       "      <th>2024-11-21 16:35:00</th>\n",
       "      <td>417.45</td>\n",
       "      <td>417.45</td>\n",
       "      <td>413.64</td>\n",
       "      <td>414.81</td>\n",
       "      <td>3115</td>\n",
       "      <td>1954</td>\n",
       "      <td>uptrend</td>\n",
       "      <td>428.47</td>\n",
       "      <td>409.75</td>\n",
       "    </tr>\n",
       "    <tr>\n",
       "      <th>2024-11-21 16:40:00</th>\n",
       "      <td>414.78</td>\n",
       "      <td>415.57</td>\n",
       "      <td>414.01</td>\n",
       "      <td>414.84</td>\n",
       "      <td>2345</td>\n",
       "      <td>1464</td>\n",
       "      <td>uptrend</td>\n",
       "      <td>428.47</td>\n",
       "      <td>409.75</td>\n",
       "    </tr>\n",
       "    <tr>\n",
       "      <th>2024-11-21 16:45:00</th>\n",
       "      <td>414.94</td>\n",
       "      <td>415.94</td>\n",
       "      <td>414.52</td>\n",
       "      <td>415.65</td>\n",
       "      <td>1511</td>\n",
       "      <td>956</td>\n",
       "      <td>uptrend</td>\n",
       "      <td>428.47</td>\n",
       "      <td>409.75</td>\n",
       "    </tr>\n",
       "    <tr>\n",
       "      <th>2024-11-21 16:50:00</th>\n",
       "      <td>415.67</td>\n",
       "      <td>416.38</td>\n",
       "      <td>414.89</td>\n",
       "      <td>415.33</td>\n",
       "      <td>1472</td>\n",
       "      <td>914</td>\n",
       "      <td>uptrend</td>\n",
       "      <td>428.47</td>\n",
       "      <td>409.75</td>\n",
       "    </tr>\n",
       "    <tr>\n",
       "      <th>...</th>\n",
       "      <td>...</td>\n",
       "      <td>...</td>\n",
       "      <td>...</td>\n",
       "      <td>...</td>\n",
       "      <td>...</td>\n",
       "      <td>...</td>\n",
       "      <td>...</td>\n",
       "      <td>...</td>\n",
       "      <td>...</td>\n",
       "    </tr>\n",
       "    <tr>\n",
       "      <th>2024-12-20 22:35:00</th>\n",
       "      <td>435.46</td>\n",
       "      <td>436.29</td>\n",
       "      <td>435.41</td>\n",
       "      <td>436.09</td>\n",
       "      <td>917</td>\n",
       "      <td>629</td>\n",
       "      <td>None</td>\n",
       "      <td>455.29</td>\n",
       "      <td>445.28</td>\n",
       "    </tr>\n",
       "    <tr>\n",
       "      <th>2024-12-20 22:40:00</th>\n",
       "      <td>436.10</td>\n",
       "      <td>436.65</td>\n",
       "      <td>435.74</td>\n",
       "      <td>436.25</td>\n",
       "      <td>1167</td>\n",
       "      <td>844</td>\n",
       "      <td>None</td>\n",
       "      <td>455.29</td>\n",
       "      <td>445.28</td>\n",
       "    </tr>\n",
       "    <tr>\n",
       "      <th>2024-12-20 22:45:00</th>\n",
       "      <td>436.18</td>\n",
       "      <td>437.91</td>\n",
       "      <td>436.13</td>\n",
       "      <td>437.18</td>\n",
       "      <td>1576</td>\n",
       "      <td>916</td>\n",
       "      <td>None</td>\n",
       "      <td>455.29</td>\n",
       "      <td>445.28</td>\n",
       "    </tr>\n",
       "    <tr>\n",
       "      <th>2024-12-20 22:50:00</th>\n",
       "      <td>437.03</td>\n",
       "      <td>437.06</td>\n",
       "      <td>434.84</td>\n",
       "      <td>436.02</td>\n",
       "      <td>4442</td>\n",
       "      <td>2738</td>\n",
       "      <td>None</td>\n",
       "      <td>455.29</td>\n",
       "      <td>445.28</td>\n",
       "    </tr>\n",
       "    <tr>\n",
       "      <th>2024-12-20 22:55:00</th>\n",
       "      <td>435.96</td>\n",
       "      <td>437.19</td>\n",
       "      <td>435.22</td>\n",
       "      <td>436.97</td>\n",
       "      <td>8684</td>\n",
       "      <td>5161</td>\n",
       "      <td>None</td>\n",
       "      <td>455.29</td>\n",
       "      <td>445.28</td>\n",
       "    </tr>\n",
       "  </tbody>\n",
       "</table>\n",
       "<p>1602 rows × 9 columns</p>\n",
       "</div>"
      ],
      "text/plain": [
       "                       open    high     low   close  volume  barcount  \\\n",
       "timestamp                                                               \n",
       "2024-11-21 16:30:00  419.50  419.78  417.25  417.50    7204      2678   \n",
       "2024-11-21 16:35:00  417.45  417.45  413.64  414.81    3115      1954   \n",
       "2024-11-21 16:40:00  414.78  415.57  414.01  414.84    2345      1464   \n",
       "2024-11-21 16:45:00  414.94  415.94  414.52  415.65    1511       956   \n",
       "2024-11-21 16:50:00  415.67  416.38  414.89  415.33    1472       914   \n",
       "...                     ...     ...     ...     ...     ...       ...   \n",
       "2024-12-20 22:35:00  435.46  436.29  435.41  436.09     917       629   \n",
       "2024-12-20 22:40:00  436.10  436.65  435.74  436.25    1167       844   \n",
       "2024-12-20 22:45:00  436.18  437.91  436.13  437.18    1576       916   \n",
       "2024-12-20 22:50:00  437.03  437.06  434.84  436.02    4442      2738   \n",
       "2024-12-20 22:55:00  435.96  437.19  435.22  436.97    8684      5161   \n",
       "\n",
       "                    daily_trend last_daily_peak last_daily_trough  \n",
       "timestamp                                                          \n",
       "2024-11-21 16:30:00     uptrend          428.47            409.75  \n",
       "2024-11-21 16:35:00     uptrend          428.47            409.75  \n",
       "2024-11-21 16:40:00     uptrend          428.47            409.75  \n",
       "2024-11-21 16:45:00     uptrend          428.47            409.75  \n",
       "2024-11-21 16:50:00     uptrend          428.47            409.75  \n",
       "...                         ...             ...               ...  \n",
       "2024-12-20 22:35:00        None          455.29            445.28  \n",
       "2024-12-20 22:40:00        None          455.29            445.28  \n",
       "2024-12-20 22:45:00        None          455.29            445.28  \n",
       "2024-12-20 22:50:00        None          455.29            445.28  \n",
       "2024-12-20 22:55:00        None          455.29            445.28  \n",
       "\n",
       "[1602 rows x 9 columns]"
      ]
     },
     "execution_count": 7,
     "metadata": {},
     "output_type": "execute_result"
    }
   ],
   "source": [
    "app.daily_trends_analyze()"
   ]
  },
  {
   "cell_type": "code",
   "execution_count": 5,
   "id": "eaf012e7-e3dc-4715-b038-84ef3a92aeac",
   "metadata": {},
   "outputs": [
    {
     "name": "stderr",
     "output_type": "stream",
     "text": [
      "2025-01-07 13:35:15,830 - tradingApp - INFO - Live trading started\n",
      "2025-01-07 13:35:15,836 - ibapi.client - INFO - sent startApi\n",
      "2025-01-07 13:35:15,838 - ibapi.client - INFO - REQUEST startApi {}\n"
     ]
    },
    {
     "data": {
      "text/plain": [
       "{'status': 'success', 'message': 'Live trading started', 'strategy': 'RSI'}"
      ]
     },
     "execution_count": 5,
     "metadata": {},
     "output_type": "execute_result"
    },
    {
     "name": "stderr",
     "output_type": "stream",
     "text": [
      "2025-01-07 13:35:15,839 - ibapi.client - INFO - SENDING startApi b'\\x00\\x00\\x00\\x0871\\x002\\x000\\x00\\x00'\n",
      "2025-01-07 13:35:15,840 - ibapi.wrapper - INFO - ANSWER connectAck {}\n",
      "Exception in thread Thread-8 (start_trading):\n",
      "Traceback (most recent call last):\n",
      "  File \"/Library/Frameworks/Python.framework/Versions/3.12/lib/python3.12/threading.py\", line 1073, in _bootstrap_inner\n",
      "    self.run()\n",
      "  File \"/Library/Frameworks/Python.framework/Versions/3.12/lib/python3.12/site-packages/ipykernel/ipkernel.py\", line 766, in run_closure\n",
      "    _threading_Thread_run(self)\n",
      "  File \"/Library/Frameworks/Python.framework/Versions/3.12/lib/python3.12/threading.py\", line 1010, in run\n",
      "    self._target(*self._args, **self._kwargs)\n",
      "  File \"/Users/ymandler/AlgoTradingProject/IBKR_Trading_new/liveTrading.py\", line 274, in start_trading\n",
      "    raise ConnectionError(\"Failed to connect to IBKR\")\n",
      "ConnectionError: Failed to connect to IBKR\n"
     ]
    }
   ],
   "source": [
    "interval = '15 mins'\n",
    "app.start_trading(interval)"
   ]
  },
  {
   "cell_type": "code",
   "execution_count": 5,
   "id": "cbf8086e-c3a3-492c-a83a-eddcec5fb0c5",
   "metadata": {},
   "outputs": [
    {
     "data": {
      "text/html": [
       "<div>\n",
       "<style scoped>\n",
       "    .dataframe tbody tr th:only-of-type {\n",
       "        vertical-align: middle;\n",
       "    }\n",
       "\n",
       "    .dataframe tbody tr th {\n",
       "        vertical-align: top;\n",
       "    }\n",
       "\n",
       "    .dataframe thead th {\n",
       "        text-align: right;\n",
       "    }\n",
       "</style>\n",
       "<table border=\"1\" class=\"dataframe\">\n",
       "  <thead>\n",
       "    <tr style=\"text-align: right;\">\n",
       "      <th></th>\n",
       "      <th>entry_time</th>\n",
       "      <th>exit_time</th>\n",
       "      <th>duration</th>\n",
       "      <th>type</th>\n",
       "      <th>size</th>\n",
       "      <th>entry_price</th>\n",
       "      <th>exit_price</th>\n",
       "      <th>profit</th>\n",
       "      <th>profit_pct</th>\n",
       "      <th>position</th>\n",
       "      <th>portfolio_value</th>\n",
       "      <th>entry_date</th>\n",
       "      <th>exit_date</th>\n",
       "    </tr>\n",
       "  </thead>\n",
       "  <tbody>\n",
       "    <tr>\n",
       "      <th>0</th>\n",
       "      <td>2024-12-09 22:15:00</td>\n",
       "      <td>2024-12-11 17:00:00</td>\n",
       "      <td>1 days 18:45:00</td>\n",
       "      <td>LONG</td>\n",
       "      <td>100000</td>\n",
       "      <td>602.43</td>\n",
       "      <td>605.14</td>\n",
       "      <td>449.844795</td>\n",
       "      <td>0.45</td>\n",
       "      <td>0</td>\n",
       "      <td>100449.844795</td>\n",
       "      <td>2024-12-09</td>\n",
       "      <td>2024-12-11</td>\n",
       "    </tr>\n",
       "    <tr>\n",
       "      <th>1</th>\n",
       "      <td>2024-12-12 16:30:00</td>\n",
       "      <td>2024-12-13 22:45:00</td>\n",
       "      <td>1 days 06:15:00</td>\n",
       "      <td>LONG</td>\n",
       "      <td>100000</td>\n",
       "      <td>604.36</td>\n",
       "      <td>602.23</td>\n",
       "      <td>-352.438944</td>\n",
       "      <td>-0.35</td>\n",
       "      <td>0</td>\n",
       "      <td>100097.405852</td>\n",
       "      <td>2024-12-12</td>\n",
       "      <td>2024-12-13</td>\n",
       "    </tr>\n",
       "    <tr>\n",
       "      <th>2</th>\n",
       "      <td>2024-12-17 16:30:00</td>\n",
       "      <td>2024-12-18 18:45:00</td>\n",
       "      <td>1 days 02:15:00</td>\n",
       "      <td>LONG</td>\n",
       "      <td>100000</td>\n",
       "      <td>602.49</td>\n",
       "      <td>603.73</td>\n",
       "      <td>205.812545</td>\n",
       "      <td>0.21</td>\n",
       "      <td>0</td>\n",
       "      <td>100303.218396</td>\n",
       "      <td>2024-12-17</td>\n",
       "      <td>2024-12-18</td>\n",
       "    </tr>\n",
       "    <tr>\n",
       "      <th>3</th>\n",
       "      <td>2024-12-18 21:00:00</td>\n",
       "      <td>2024-12-20 18:30:00</td>\n",
       "      <td>1 days 21:30:00</td>\n",
       "      <td>LONG</td>\n",
       "      <td>100000</td>\n",
       "      <td>598.93</td>\n",
       "      <td>594.83</td>\n",
       "      <td>-684.554122</td>\n",
       "      <td>-0.68</td>\n",
       "      <td>0</td>\n",
       "      <td>99618.664275</td>\n",
       "      <td>2024-12-18</td>\n",
       "      <td>2024-12-20</td>\n",
       "    </tr>\n",
       "    <tr>\n",
       "      <th>4</th>\n",
       "      <td>2024-12-20 22:30:00</td>\n",
       "      <td>2024-12-23 20:30:00</td>\n",
       "      <td>2 days 22:00:00</td>\n",
       "      <td>LONG</td>\n",
       "      <td>100000</td>\n",
       "      <td>591.50</td>\n",
       "      <td>593.62</td>\n",
       "      <td>358.410820</td>\n",
       "      <td>0.36</td>\n",
       "      <td>0</td>\n",
       "      <td>99977.075095</td>\n",
       "      <td>2024-12-20</td>\n",
       "      <td>2024-12-23</td>\n",
       "    </tr>\n",
       "    <tr>\n",
       "      <th>5</th>\n",
       "      <td>2024-12-27 16:30:00</td>\n",
       "      <td>2024-12-30 20:00:00</td>\n",
       "      <td>3 days 03:30:00</td>\n",
       "      <td>LONG</td>\n",
       "      <td>100000</td>\n",
       "      <td>596.52</td>\n",
       "      <td>591.44</td>\n",
       "      <td>-851.605981</td>\n",
       "      <td>-0.85</td>\n",
       "      <td>0</td>\n",
       "      <td>99125.469113</td>\n",
       "      <td>2024-12-27</td>\n",
       "      <td>2024-12-30</td>\n",
       "    </tr>\n",
       "    <tr>\n",
       "      <th>6</th>\n",
       "      <td>2024-12-31 18:45:00</td>\n",
       "      <td>2025-01-03 16:30:00</td>\n",
       "      <td>2 days 21:45:00</td>\n",
       "      <td>LONG</td>\n",
       "      <td>100000</td>\n",
       "      <td>587.05</td>\n",
       "      <td>589.29</td>\n",
       "      <td>381.568861</td>\n",
       "      <td>0.38</td>\n",
       "      <td>0</td>\n",
       "      <td>99507.037975</td>\n",
       "      <td>2024-12-31</td>\n",
       "      <td>2025-01-03</td>\n",
       "    </tr>\n",
       "    <tr>\n",
       "      <th>7</th>\n",
       "      <td>2025-01-06 20:30:00</td>\n",
       "      <td>2025-01-07 20:45:00</td>\n",
       "      <td>1 days 00:15:00</td>\n",
       "      <td>LONG</td>\n",
       "      <td>100000</td>\n",
       "      <td>596.46</td>\n",
       "      <td>591.06</td>\n",
       "      <td>-905.341515</td>\n",
       "      <td>-0.91</td>\n",
       "      <td>0</td>\n",
       "      <td>98601.696460</td>\n",
       "      <td>2025-01-06</td>\n",
       "      <td>2025-01-07</td>\n",
       "    </tr>\n",
       "  </tbody>\n",
       "</table>\n",
       "</div>"
      ],
      "text/plain": [
       "           entry_time           exit_time        duration  type    size  \\\n",
       "0 2024-12-09 22:15:00 2024-12-11 17:00:00 1 days 18:45:00  LONG  100000   \n",
       "1 2024-12-12 16:30:00 2024-12-13 22:45:00 1 days 06:15:00  LONG  100000   \n",
       "2 2024-12-17 16:30:00 2024-12-18 18:45:00 1 days 02:15:00  LONG  100000   \n",
       "3 2024-12-18 21:00:00 2024-12-20 18:30:00 1 days 21:30:00  LONG  100000   \n",
       "4 2024-12-20 22:30:00 2024-12-23 20:30:00 2 days 22:00:00  LONG  100000   \n",
       "5 2024-12-27 16:30:00 2024-12-30 20:00:00 3 days 03:30:00  LONG  100000   \n",
       "6 2024-12-31 18:45:00 2025-01-03 16:30:00 2 days 21:45:00  LONG  100000   \n",
       "7 2025-01-06 20:30:00 2025-01-07 20:45:00 1 days 00:15:00  LONG  100000   \n",
       "\n",
       "   entry_price  exit_price      profit  profit_pct  position  portfolio_value  \\\n",
       "0       602.43      605.14  449.844795        0.45         0    100449.844795   \n",
       "1       604.36      602.23 -352.438944       -0.35         0    100097.405852   \n",
       "2       602.49      603.73  205.812545        0.21         0    100303.218396   \n",
       "3       598.93      594.83 -684.554122       -0.68         0     99618.664275   \n",
       "4       591.50      593.62  358.410820        0.36         0     99977.075095   \n",
       "5       596.52      591.44 -851.605981       -0.85         0     99125.469113   \n",
       "6       587.05      589.29  381.568861        0.38         0     99507.037975   \n",
       "7       596.46      591.06 -905.341515       -0.91         0     98601.696460   \n",
       "\n",
       "   entry_date   exit_date  \n",
       "0  2024-12-09  2024-12-11  \n",
       "1  2024-12-12  2024-12-13  \n",
       "2  2024-12-17  2024-12-18  \n",
       "3  2024-12-18  2024-12-20  \n",
       "4  2024-12-20  2024-12-23  \n",
       "5  2024-12-27  2024-12-30  \n",
       "6  2024-12-31  2025-01-03  \n",
       "7  2025-01-06  2025-01-07  "
      ]
     },
     "execution_count": 5,
     "metadata": {},
     "output_type": "execute_result"
    }
   ],
   "source": [
    "app.trades"
   ]
  },
  {
   "cell_type": "code",
   "execution_count": 5,
   "id": "a2b5e374-5228-4558-b88c-54f071fa4c12",
   "metadata": {},
   "outputs": [
    {
     "name": "stderr",
     "output_type": "stream",
     "text": [
      "2025-01-16 08:42:24,006 - ibapi.client - INFO - disconnecting\n",
      "2025-01-16 08:42:24,007 - IBKRWrapper - WARNING - Connection closed by server\n",
      "2025-01-16 08:42:24,008 - IBKRWrapper - WARNING - Main connection lost. Attempting to reconnect...\n",
      "2025-01-16 08:42:24,010 - IBKRWrapper - INFO - Reconnection attempt 1/5\n",
      "2025-01-16 08:42:54,023 - ibapi.client - INFO - sent startApi\n",
      "2025-01-16 08:42:54,025 - ibapi.client - INFO - REQUEST startApi {}\n",
      "2025-01-16 08:42:54,026 - ibapi.client - INFO - SENDING startApi b'\\x00\\x00\\x00\\x0871\\x002\\x001\\x00\\x00'\n",
      "2025-01-16 08:42:54,028 - IBKRWrapper - INFO - Connected to IBKR\n",
      "2025-01-16 08:42:54,028 - IBKRWrapper - INFO - Successfully reconnected\n"
     ]
    }
   ],
   "source": [
    "app.trading_engine.app.disconnect()"
   ]
  },
  {
   "cell_type": "code",
   "execution_count": 6,
   "id": "b5d34911-0040-43c2-9e86-2112857fdc1b",
   "metadata": {},
   "outputs": [
    {
     "data": {
      "text/plain": [
       "[{'id': 'BollingerBands',\n",
       "  'type': 'BollingerBands',\n",
       "  'params': {'window': 20, 'num_std': 2, 'position_size': 100}},\n",
       " {'id': 'MACDStoch',\n",
       "  'type': 'MACDStoch',\n",
       "  'params': {'fast_period': 12,\n",
       "   'slow_period': 26,\n",
       "   'signal_period': 9,\n",
       "   'stoch_k_period': 14,\n",
       "   'stoch_d_period': 3,\n",
       "   'atr_period': 60,\n",
       "   'stoch_oversold': 30,\n",
       "   'position_size': 10000,\n",
       "   'lookback': 100}},\n",
       " {'id': 'MACD',\n",
       "  'type': 'MACD',\n",
       "  'params': {'fast_period': 12,\n",
       "   'slow_period': 26,\n",
       "   'signal_period': 9,\n",
       "   'position_size': 100}},\n",
       " {'id': 'RSI',\n",
       "  'type': 'RSI',\n",
       "  'params': {'rsi_period': 14,\n",
       "   'overbought': 70,\n",
       "   'oversold': 30,\n",
       "   'position_size': 100}},\n",
       " {'id': 'VWAP',\n",
       "  'type': 'VWAP',\n",
       "  'params': {'window': 20, 'std_dev_multiplier': 2, 'position_size': 100}},\n",
       " {'id': 'XGBoost', 'type': 'XGBoost', 'params': {}}]"
      ]
     },
     "execution_count": 6,
     "metadata": {},
     "output_type": "execute_result"
    }
   ],
   "source": [
    "app.get_strategies()"
   ]
  },
  {
   "cell_type": "code",
   "execution_count": 3,
   "id": "0b747ac4-4b80-44c3-b16c-918f4672db84",
   "metadata": {},
   "outputs": [
    {
     "name": "stderr",
     "output_type": "stream",
     "text": [
      "2025-01-05 20:16:21,466 - tradingApp - INFO - Loaded 1602 rows of historical data from stock_data_MSFT/MSFT_None_to_20241222 12:53:03_intraday.csv\n",
      "2025-01-05 20:16:21,467 - tradingApp - INFO - Period: 20241121 16:30:00 to 20241220 22:55:00\n",
      "2025-01-05 20:16:21,470 - tradingApp - INFO - Loaded 251 rows of historical data from stock_data_MSFT/MSFT_None_to_20241222 12:53:03_daily.csv\n",
      "2025-01-05 20:16:21,471 - tradingApp - INFO - Period: 20231222 00:00:00 to 20241220 00:00:00\n",
      "2025-01-05 20:16:21,650 - tradingApp - INFO - Strategy registered: RSI for MSFT\n"
     ]
    },
    {
     "ename": "NameError",
     "evalue": "name 'best_parameters' is not defined",
     "output_type": "error",
     "traceback": [
      "\u001b[0;31m---------------------------------------------------------------------------\u001b[0m",
      "\u001b[0;31mNameError\u001b[0m                                 Traceback (most recent call last)",
      "Cell \u001b[0;32mIn[3], line 27\u001b[0m\n\u001b[1;32m     16\u001b[0m \u001b[38;5;66;03m# Run optimization\u001b[39;00m\n\u001b[1;32m     17\u001b[0m result \u001b[38;5;241m=\u001b[39m optimizer\u001b[38;5;241m.\u001b[39moptimize(\n\u001b[1;32m     18\u001b[0m     strategy_type\u001b[38;5;241m=\u001b[39m\u001b[38;5;124m'\u001b[39m\u001b[38;5;124mRSI\u001b[39m\u001b[38;5;124m'\u001b[39m,\n\u001b[1;32m     19\u001b[0m     param_ranges\u001b[38;5;241m=\u001b[39mparam_ranges,\n\u001b[0;32m   (...)\u001b[0m\n\u001b[1;32m     24\u001b[0m     period\u001b[38;5;241m=\u001b[39m\u001b[38;5;124m'\u001b[39m\u001b[38;5;124m1 M\u001b[39m\u001b[38;5;124m'\u001b[39m\n\u001b[1;32m     25\u001b[0m )\n\u001b[0;32m---> 27\u001b[0m \u001b[38;5;28mprint\u001b[39m(\u001b[38;5;124m\"\u001b[39m\u001b[38;5;124mOptimal Parameters:\u001b[39m\u001b[38;5;124m\"\u001b[39m, result[\u001b[43mbest_parameters\u001b[49m])\n",
      "\u001b[0;31mNameError\u001b[0m: name 'best_parameters' is not defined"
     ]
    }
   ],
   "source": [
    "# Initialize optimizer\n",
    "from strategies import RSIStrategy\n",
    "optimizer = Optimizer(app)\n",
    "\n",
    "# Define parameter ranges\n",
    "param_ranges = {\n",
    "    'rsi_period': (10, 30, 10),\n",
    "    'overbought': (60, 80, 10),\n",
    "    'oversold': (20, 40, 10),\n",
    "    'position_size': (50, 200, 50)\n",
    "}\n",
    "\n",
    "# Initial guess\n",
    "initial_guess = [14, 70, 30, 100]\n",
    "\n",
    "# Run optimization\n",
    "result = optimizer.optimize(\n",
    "    strategy_type='RSI',\n",
    "    param_ranges=param_ranges,\n",
    "    initial_guess=initial_guess,\n",
    "    symbol=\"MSFT\",\n",
    "    optimize_target=OptimizeTarget.NET_PROFIT,\n",
    "    interval='15 mins',\n",
    "    period='1 M'\n",
    ")\n",
    "\n",
    "print(\"Optimal Parameters:\", result[best_parameters])"
   ]
  },
  {
   "cell_type": "code",
   "execution_count": 1,
   "id": "20265572-200b-4b11-8b28-c1b1b2f6e638",
   "metadata": {},
   "outputs": [
    {
     "name": "stderr",
     "output_type": "stream",
     "text": [
      "2025-01-17 06:57:47,320 - ibapi.client - INFO - sent startApi\n",
      "2025-01-17 06:57:47,321 - ibapi.client - INFO - REQUEST startApi {}\n",
      "2025-01-17 06:57:47,322 - ibapi.client - INFO - SENDING startApi b'\\x00\\x00\\x00\\x0871\\x002\\x002\\x00\\x00'\n",
      "2025-01-17 06:57:47,323 - IBKRWrapper - INFO - Connected to IBKR\n",
      "2025-01-17 06:57:47,326 - ibapi.wrapper - INFO - ANSWER managedAccounts {'accountsList': 'DU8653459'}\n",
      "2025-01-17 06:57:47,348 - IBKRWrapper - ERROR - Error 2104: Market data farm connection is OK:usfarm.nj\n",
      "2025-01-17 06:57:47,349 - IBKRWrapper - ERROR - Error 2104: Market data farm connection is OK:cashfarm\n",
      "2025-01-17 06:57:47,350 - IBKRWrapper - ERROR - Error 2104: Market data farm connection is OK:usfarm\n",
      "2025-01-17 06:57:47,350 - IBKRWrapper - ERROR - Error 2106: HMDS data farm connection is OK:ushmds\n",
      "2025-01-17 06:57:47,351 - IBKRWrapper - ERROR - Error 2158: Sec-def data farm connection is OK:secdefil\n"
     ]
    },
    {
     "name": "stdout",
     "output_type": "stream",
     "text": [
      "Starting backtest...\n",
      "False\n",
      "Attempting socket connection to 127.0.0.1:7497\n",
      "Next Valid Order ID: 1\n"
     ]
    },
    {
     "name": "stderr",
     "output_type": "stream",
     "text": [
      "2025-01-17 06:57:48,325 - ibapi.client - INFO - REQUEST reqHistoricalData {'reqId': 1, 'contract': 2224853696928: 0,AAPL,STK,,0.0,,,SMART,,USD,,,False,,combo:, 'endDateTime': '', 'durationStr': '3 M', 'barSizeSetting': '15 mins', 'whatToShow': 'ADJUSTED_LAST', 'useRTH': 1, 'formatDate': 1, 'keepUpToDate': 0, 'chartOptions': []}\n",
      "2025-01-17 06:57:48,326 - ibapi.client - INFO - SENDING reqHistoricalData b'\\x00\\x00\\x00H20\\x001\\x000\\x00AAPL\\x00STK\\x00\\x000.0\\x00\\x00\\x00SMART\\x00\\x00USD\\x00\\x00\\x000\\x00\\x0015 mins\\x003 M\\x001\\x00ADJUSTED_LAST\\x001\\x000\\x00\\x00'\n"
     ]
    },
    {
     "name": "stdout",
     "output_type": "stream",
     "text": [
      "Requesting historical data for AAPL\n"
     ]
    },
    {
     "name": "stderr",
     "output_type": "stream",
     "text": [
      "2025-01-17 06:57:49,068 - IBKRWrapper - ERROR - Error 2176: Warning: Your API version does not support fractional share size rules. Please upgrade to a minimum version 163. Trimmed value 18521.44 to 18521\n",
      "2025-01-17 06:57:49,089 - IBKRWrapper - INFO - Historical data complete - 20241017  06:57:47 to 20250117  06:57:47\n",
      "2025-01-17 06:57:50,140 - ibapi.client - INFO - REQUEST reqHistoricalData {'reqId': 2, 'contract': 2224853696928: 0,AAPL,STK,,0.0,,,SMART,,USD,,,False,,combo:, 'endDateTime': '', 'durationStr': '1 Y', 'barSizeSetting': '1 day', 'whatToShow': 'ADJUSTED_LAST', 'useRTH': 1, 'formatDate': 1, 'keepUpToDate': 0, 'chartOptions': []}\n",
      "2025-01-17 06:57:50,141 - ibapi.client - INFO - SENDING reqHistoricalData b'\\x00\\x00\\x00F20\\x002\\x000\\x00AAPL\\x00STK\\x00\\x000.0\\x00\\x00\\x00SMART\\x00\\x00USD\\x00\\x00\\x000\\x00\\x001 day\\x001 Y\\x001\\x00ADJUSTED_LAST\\x001\\x000\\x00\\x00'\n"
     ]
    },
    {
     "name": "stdout",
     "output_type": "stream",
     "text": [
      "Requesting historical data for AAPL\n"
     ]
    },
    {
     "name": "stderr",
     "output_type": "stream",
     "text": [
      "2025-01-17 06:57:50,648 - IBKRWrapper - ERROR - Error 2176: Warning: Your API version does not support fractional share size rules. Please upgrade to a minimum version 163. Trimmed value 532678.78 to 532678\n",
      "2025-01-17 06:57:50,652 - IBKRWrapper - INFO - Historical data complete - 20240117  06:57:49 to 20250117  06:57:49\n",
      "2025-01-17 06:58:08,317 - strategies - INFO - Best validation precision: 0.000\n",
      "2025-01-17 06:58:08,317 - strategies - INFO - Best validation precision: 0.000\n",
      "2025-01-17 06:58:08,319 - strategies - INFO - Best parameters: base parameters\n",
      "2025-01-17 06:58:08,319 - strategies - INFO - Best parameters: base parameters\n",
      "2025-01-17 06:58:08,330 - strategies - INFO - \n",
      "Feature importance:\n",
      "           feature  importance\n",
      "2       returns_15    0.167186\n",
      "8         momentum    0.162836\n",
      "1       returns_10    0.127868\n",
      "0        returns_5    0.108631\n",
      "4  volume_ma_ratio    0.092605\n",
      "5   high_low_ratio    0.088673\n",
      "9     acceleration    0.069246\n",
      "3     volume_ratio    0.068814\n",
      "6    close_to_high    0.067207\n",
      "7     close_to_low    0.046933\n",
      "2025-01-17 06:58:08,330 - strategies - INFO - \n",
      "Feature importance:\n",
      "           feature  importance\n",
      "2       returns_15    0.167186\n",
      "8         momentum    0.162836\n",
      "1       returns_10    0.127868\n",
      "0        returns_5    0.108631\n",
      "4  volume_ma_ratio    0.092605\n",
      "5   high_low_ratio    0.088673\n",
      "9     acceleration    0.069246\n",
      "3     volume_ratio    0.068814\n",
      "6    close_to_high    0.067207\n",
      "7     close_to_low    0.046933\n"
     ]
    },
    {
     "name": "stdout",
     "output_type": "stream",
     "text": [
      "\n",
      "Backtest Results:\n",
      "Final Portfolio Value: $99,949.49\n",
      "Maximum Drawdown: $270.89\n",
      "Number of Trades: 7\n"
     ]
    },
    {
     "name": "stderr",
     "output_type": "stream",
     "text": [
      "2025-01-17 07:01:03,172 - IBKRWrapper - ERROR - Error 2105: HMDS data farm connection is broken:ushmds\n",
      "2025-01-17 07:01:18,601 - IBKRWrapper - ERROR - Error 2106: HMDS data farm connection is OK:ushmds\n"
     ]
    }
   ],
   "source": [
    "from trading_engine import TradingEngine\n",
    "from strategies import XGBoostStrategy\n",
    "import pandas as pd\n",
    "import logging\n",
    "\n",
    "    # Initialize trading engine\n",
    "engine = TradingEngine()\n",
    "\n",
    "# Create and set strategy\n",
    "symbol = 'AAPL'\n",
    "strategy = XGBoostStrategy(symbol=symbol)\n",
    "engine.set_strategy(strategy)\n",
    "\n",
    "# Option 1: Run backtest\n",
    "print(\"Starting backtest...\")\n",
    "initial_capital = 100000\n",
    "position_size = 10000\n",
    "\n",
    "# Get historical data for backtest\n",
    "intraday_data, daily_data = engine.get_historical_data(\n",
    "    duration=\"3 M\",\n",
    "    interval=\"15 mins\",\n",
    "    symbol=symbol\n",
    ")\n",
    "\n",
    "# Run backtest\n",
    "backtest_results = engine.backtest(\n",
    "    data=intraday_data,\n",
    "    initial_capital=initial_capital,\n",
    "    position_size=position_size\n",
    ")\n",
    "\n",
    "# Print backtest results\n",
    "print(\"\\nBacktest Results:\")\n",
    "print(f\"Final Portfolio Value: ${backtest_results['current_portfolio']:,.2f}\")\n",
    "print(f\"Maximum Drawdown: ${backtest_results['max_drawdown']:,.2f}\")\n",
    "print(f\"Number of Trades: {len(backtest_results['trades'])}\")\n",
    "\n"
   ]
  },
  {
   "cell_type": "code",
   "execution_count": 1,
   "id": "0c193a44-789b-4416-9fa8-d78c9efb964e",
   "metadata": {},
   "outputs": [],
   "source": [
    "from MongoDBWrapper import MongoDBWrapper\n",
    "mongo = MongoDBWrapper()\n",
    "position_data = {'symbol': 'QQQ',\n",
    "        'strategy': 'RSI',\n",
    "       'type': 'LONG', \n",
    "       'entry_time': '21.11.2024',\n",
    "       'status': 'Open',\n",
    "       'profit': 500}\n",
    "#mongo.insert_position(position_data)\n",
    "#if engine._connect():\n",
    "    #account_info = engine.get_orders()"
   ]
  },
  {
   "cell_type": "code",
   "execution_count": 2,
   "id": "afc76800-05d9-4c8f-a442-1c8c2cb0d568",
   "metadata": {},
   "outputs": [
    {
     "data": {
      "text/plain": [
       "[{'_id': ObjectId('679343008a78051ee3361f68'),\n",
       "  'strategy': 'MACD',\n",
       "  'type': 'LONG',\n",
       "  'entry_time': '21.11.2024',\n",
       "  'status': 'Open',\n",
       "  'profit': 1500,\n",
       "  'last_updated': datetime.datetime(2025, 1, 24, 9, 36, 32, 554000)},\n",
       " {'_id': ObjectId('679345d38b849aac72dcfbb3'),\n",
       "  'symbol': 'QQQ',\n",
       "  'strategy': 'RSI',\n",
       "  'type': 'LONG',\n",
       "  'entry_time': '21.11.2024',\n",
       "  'status': 'Open',\n",
       "  'profit': 500,\n",
       "  'last_updated': datetime.datetime(2025, 1, 24, 9, 48, 35, 469000)}]"
      ]
     },
     "execution_count": 2,
     "metadata": {},
     "output_type": "execute_result"
    }
   ],
   "source": [
    "mongo.get_positions()"
   ]
  },
  {
   "cell_type": "code",
   "execution_count": null,
   "id": "849e1a6a-9b45-4895-a280-7bc80a6d9407",
   "metadata": {},
   "outputs": [],
   "source": []
  },
  {
   "cell_type": "code",
   "execution_count": null,
   "id": "68e19262-171c-41e4-bed9-ad96e6dcebe8",
   "metadata": {},
   "outputs": [],
   "source": []
  }
 ],
 "metadata": {
  "kernelspec": {
   "display_name": "Python 3 (ipykernel)",
   "language": "python",
   "name": "python3"
  },
  "language_info": {
   "codemirror_mode": {
    "name": "ipython",
    "version": 3
   },
   "file_extension": ".py",
   "mimetype": "text/x-python",
   "name": "python",
   "nbconvert_exporter": "python",
   "pygments_lexer": "ipython3",
   "version": "3.13.1"
  }
 },
 "nbformat": 4,
 "nbformat_minor": 5
}

{
 "cells": [
  {
   "cell_type": "code",
   "execution_count": 1,
   "id": "66e63f7e-f3af-42d1-9bd7-39056daeaa1a",
   "metadata": {},
   "outputs": [],
   "source": [
    "from tradingApp import TradingApplication\n",
    "from optimizer import Optimizer, OptimizeTarget\n",
    "import pandas as pd"
   ]
  },
  {
   "cell_type": "code",
   "execution_count": 2,
   "id": "d45c2414-0482-44e7-8a78-7b88355a0633",
   "metadata": {},
   "outputs": [],
   "source": [
    "app = TradingApplication()"
   ]
  },
  {
   "cell_type": "code",
   "execution_count": 3,
   "id": "92d304b3-0f54-4098-939a-a2b53980c832",
   "metadata": {},
   "outputs": [
    {
     "name": "stderr",
     "output_type": "stream",
     "text": [
      "2025-01-06 16:42:06,432 - tradingApp - INFO - Strategy registered: RSI for SPY\n"
     ]
    },
    {
     "name": "stdout",
     "output_type": "stream",
     "text": [
      "Strategy Registration: {'status': 'success', 'message': 'Strategy registered', 'details': {'strategy_type': 'RSI', 'symbol': 'SPY', 'params': {'rsi_period': 14, 'overbought': 70, 'oversold': 30, 'position_size': 100}}}\n"
     ]
    }
   ],
   "source": [
    "result = app.register_strategy(\n",
    "    strategy_type='RSI',\n",
    "    symbol=\"SPY\",\n",
    "    params={\n",
    "            'rsi_period': 14,\n",
    "            'overbought': 70,\n",
    "            'oversold': 30,\n",
    "            'position_size': 100\n",
    "    }\n",
    ")\n",
    "print(\"Strategy Registration:\", result)"
   ]
  },
  {
   "cell_type": "code",
   "execution_count": 5,
   "id": "256138bc-652f-4db2-8a7e-15d1e878ffa5",
   "metadata": {},
   "outputs": [],
   "source": [
    "backtest_results = app.run_backtest(\n",
    "    interval=\"15 mins\",\n",
    "    period=\"1 D\")"
   ]
  },
  {
   "cell_type": "code",
   "execution_count": 3,
   "id": "67a0b7a9-9325-49cd-a97e-97440f29990a",
   "metadata": {},
   "outputs": [
    {
     "name": "stdout",
     "output_type": "stream",
     "text": [
      "{'success': True, 'message': 'Successfully added strategy: SimpleMovingAverageStrategy', 'errors': []}\n",
      "None\n"
     ]
    }
   ],
   "source": [
    "strategy_json = '''{\n",
    "        \"name\": \"SimpleMovingAverageStrategy\",\n",
    "        \"init_params\": \"super().__init__(symbol, params)\",\n",
    "        \"calculate_signals_body\": \"return data\",\n",
    "        \"generate_trade_decision_body\": \"return None, None, None\"\n",
    "    }'''\n",
    "\n",
    "# Add the strategy\n",
    "result = app.add_strategy(strategy_json)\n",
    "print(result)"
   ]
  },
  {
   "cell_type": "code",
   "execution_count": 5,
   "id": "24f55461-ea16-451e-b384-abf0ad583bac",
   "metadata": {},
   "outputs": [
    {
     "data": {
      "text/html": [
       "<div>\n",
       "<style scoped>\n",
       "    .dataframe tbody tr th:only-of-type {\n",
       "        vertical-align: middle;\n",
       "    }\n",
       "\n",
       "    .dataframe tbody tr th {\n",
       "        vertical-align: top;\n",
       "    }\n",
       "\n",
       "    .dataframe thead th {\n",
       "        text-align: right;\n",
       "    }\n",
       "</style>\n",
       "<table border=\"1\" class=\"dataframe\">\n",
       "  <thead>\n",
       "    <tr style=\"text-align: right;\">\n",
       "      <th></th>\n",
       "      <th>open</th>\n",
       "      <th>high</th>\n",
       "      <th>low</th>\n",
       "      <th>close</th>\n",
       "      <th>volume</th>\n",
       "      <th>barcount</th>\n",
       "      <th>daily_trend</th>\n",
       "      <th>last_daily_peak</th>\n",
       "      <th>last_daily_trough</th>\n",
       "    </tr>\n",
       "    <tr>\n",
       "      <th>timestamp</th>\n",
       "      <th></th>\n",
       "      <th></th>\n",
       "      <th></th>\n",
       "      <th></th>\n",
       "      <th></th>\n",
       "      <th></th>\n",
       "      <th></th>\n",
       "      <th></th>\n",
       "      <th></th>\n",
       "    </tr>\n",
       "  </thead>\n",
       "  <tbody>\n",
       "    <tr>\n",
       "      <th>2024-11-21 16:30:00</th>\n",
       "      <td>419.50</td>\n",
       "      <td>419.78</td>\n",
       "      <td>417.25</td>\n",
       "      <td>417.50</td>\n",
       "      <td>7204</td>\n",
       "      <td>2678</td>\n",
       "      <td>uptrend</td>\n",
       "      <td>428.47</td>\n",
       "      <td>409.75</td>\n",
       "    </tr>\n",
       "    <tr>\n",
       "      <th>2024-11-21 16:35:00</th>\n",
       "      <td>417.45</td>\n",
       "      <td>417.45</td>\n",
       "      <td>413.64</td>\n",
       "      <td>414.81</td>\n",
       "      <td>3115</td>\n",
       "      <td>1954</td>\n",
       "      <td>uptrend</td>\n",
       "      <td>428.47</td>\n",
       "      <td>409.75</td>\n",
       "    </tr>\n",
       "    <tr>\n",
       "      <th>2024-11-21 16:40:00</th>\n",
       "      <td>414.78</td>\n",
       "      <td>415.57</td>\n",
       "      <td>414.01</td>\n",
       "      <td>414.84</td>\n",
       "      <td>2345</td>\n",
       "      <td>1464</td>\n",
       "      <td>uptrend</td>\n",
       "      <td>428.47</td>\n",
       "      <td>409.75</td>\n",
       "    </tr>\n",
       "    <tr>\n",
       "      <th>2024-11-21 16:45:00</th>\n",
       "      <td>414.94</td>\n",
       "      <td>415.94</td>\n",
       "      <td>414.52</td>\n",
       "      <td>415.65</td>\n",
       "      <td>1511</td>\n",
       "      <td>956</td>\n",
       "      <td>uptrend</td>\n",
       "      <td>428.47</td>\n",
       "      <td>409.75</td>\n",
       "    </tr>\n",
       "    <tr>\n",
       "      <th>2024-11-21 16:50:00</th>\n",
       "      <td>415.67</td>\n",
       "      <td>416.38</td>\n",
       "      <td>414.89</td>\n",
       "      <td>415.33</td>\n",
       "      <td>1472</td>\n",
       "      <td>914</td>\n",
       "      <td>uptrend</td>\n",
       "      <td>428.47</td>\n",
       "      <td>409.75</td>\n",
       "    </tr>\n",
       "    <tr>\n",
       "      <th>...</th>\n",
       "      <td>...</td>\n",
       "      <td>...</td>\n",
       "      <td>...</td>\n",
       "      <td>...</td>\n",
       "      <td>...</td>\n",
       "      <td>...</td>\n",
       "      <td>...</td>\n",
       "      <td>...</td>\n",
       "      <td>...</td>\n",
       "    </tr>\n",
       "    <tr>\n",
       "      <th>2024-12-20 22:35:00</th>\n",
       "      <td>435.46</td>\n",
       "      <td>436.29</td>\n",
       "      <td>435.41</td>\n",
       "      <td>436.09</td>\n",
       "      <td>917</td>\n",
       "      <td>629</td>\n",
       "      <td>None</td>\n",
       "      <td>455.29</td>\n",
       "      <td>445.28</td>\n",
       "    </tr>\n",
       "    <tr>\n",
       "      <th>2024-12-20 22:40:00</th>\n",
       "      <td>436.10</td>\n",
       "      <td>436.65</td>\n",
       "      <td>435.74</td>\n",
       "      <td>436.25</td>\n",
       "      <td>1167</td>\n",
       "      <td>844</td>\n",
       "      <td>None</td>\n",
       "      <td>455.29</td>\n",
       "      <td>445.28</td>\n",
       "    </tr>\n",
       "    <tr>\n",
       "      <th>2024-12-20 22:45:00</th>\n",
       "      <td>436.18</td>\n",
       "      <td>437.91</td>\n",
       "      <td>436.13</td>\n",
       "      <td>437.18</td>\n",
       "      <td>1576</td>\n",
       "      <td>916</td>\n",
       "      <td>None</td>\n",
       "      <td>455.29</td>\n",
       "      <td>445.28</td>\n",
       "    </tr>\n",
       "    <tr>\n",
       "      <th>2024-12-20 22:50:00</th>\n",
       "      <td>437.03</td>\n",
       "      <td>437.06</td>\n",
       "      <td>434.84</td>\n",
       "      <td>436.02</td>\n",
       "      <td>4442</td>\n",
       "      <td>2738</td>\n",
       "      <td>None</td>\n",
       "      <td>455.29</td>\n",
       "      <td>445.28</td>\n",
       "    </tr>\n",
       "    <tr>\n",
       "      <th>2024-12-20 22:55:00</th>\n",
       "      <td>435.96</td>\n",
       "      <td>437.19</td>\n",
       "      <td>435.22</td>\n",
       "      <td>436.97</td>\n",
       "      <td>8684</td>\n",
       "      <td>5161</td>\n",
       "      <td>None</td>\n",
       "      <td>455.29</td>\n",
       "      <td>445.28</td>\n",
       "    </tr>\n",
       "  </tbody>\n",
       "</table>\n",
       "<p>1602 rows × 9 columns</p>\n",
       "</div>"
      ],
      "text/plain": [
       "                       open    high     low   close  volume  barcount  \\\n",
       "timestamp                                                               \n",
       "2024-11-21 16:30:00  419.50  419.78  417.25  417.50    7204      2678   \n",
       "2024-11-21 16:35:00  417.45  417.45  413.64  414.81    3115      1954   \n",
       "2024-11-21 16:40:00  414.78  415.57  414.01  414.84    2345      1464   \n",
       "2024-11-21 16:45:00  414.94  415.94  414.52  415.65    1511       956   \n",
       "2024-11-21 16:50:00  415.67  416.38  414.89  415.33    1472       914   \n",
       "...                     ...     ...     ...     ...     ...       ...   \n",
       "2024-12-20 22:35:00  435.46  436.29  435.41  436.09     917       629   \n",
       "2024-12-20 22:40:00  436.10  436.65  435.74  436.25    1167       844   \n",
       "2024-12-20 22:45:00  436.18  437.91  436.13  437.18    1576       916   \n",
       "2024-12-20 22:50:00  437.03  437.06  434.84  436.02    4442      2738   \n",
       "2024-12-20 22:55:00  435.96  437.19  435.22  436.97    8684      5161   \n",
       "\n",
       "                    daily_trend last_daily_peak last_daily_trough  \n",
       "timestamp                                                          \n",
       "2024-11-21 16:30:00     uptrend          428.47            409.75  \n",
       "2024-11-21 16:35:00     uptrend          428.47            409.75  \n",
       "2024-11-21 16:40:00     uptrend          428.47            409.75  \n",
       "2024-11-21 16:45:00     uptrend          428.47            409.75  \n",
       "2024-11-21 16:50:00     uptrend          428.47            409.75  \n",
       "...                         ...             ...               ...  \n",
       "2024-12-20 22:35:00        None          455.29            445.28  \n",
       "2024-12-20 22:40:00        None          455.29            445.28  \n",
       "2024-12-20 22:45:00        None          455.29            445.28  \n",
       "2024-12-20 22:50:00        None          455.29            445.28  \n",
       "2024-12-20 22:55:00        None          455.29            445.28  \n",
       "\n",
       "[1602 rows x 9 columns]"
      ]
     },
     "execution_count": 5,
     "metadata": {},
     "output_type": "execute_result"
    }
   ],
   "source": [
    "app.daily_trends_analyze()"
   ]
  },
  {
   "cell_type": "code",
   "execution_count": 4,
   "id": "eaf012e7-e3dc-4715-b038-84ef3a92aeac",
   "metadata": {},
   "outputs": [
    {
     "name": "stderr",
     "output_type": "stream",
     "text": [
      "2025-01-06 16:42:10,367 - ibapi.client - INFO - sent startApi\n",
      "2025-01-06 16:42:10,368 - ibapi.client - INFO - REQUEST startApi {}\n",
      "2025-01-06 16:42:10,369 - ibapi.client - INFO - SENDING startApi b'\\x00\\x00\\x00\\x0871\\x002\\x001\\x00\\x00'\n",
      "2025-01-06 16:42:10,370 - IBKRWrapper - INFO - Connected to IBKR\n",
      "2025-01-06 16:42:10,375 - IBKRWrapper - ERROR - Error 2110: Connectivity between TWS and server is broken. It will be restored automatically.\n",
      "2025-01-06 16:42:10,376 - IBKRWrapper - WARNING - Main connection lost. Attempting to reconnect...\n",
      "2025-01-06 16:42:10,377 - IBKRWrapper - INFO - Reconnection attempt 1/5\n",
      "2025-01-06 16:42:10,378 - ibapi.wrapper - INFO - ANSWER managedAccounts {'accountsList': 'DU8653459'}\n",
      "2025-01-06 16:42:10,379 - ibapi.client - INFO - disconnecting\n",
      "2025-01-06 16:42:10,379 - IBKRWrapper - ERROR - Error 2103: Market data farm connection is broken:usfarm.nj\n",
      "2025-01-06 16:42:10,380 - IBKRWrapper - WARNING - Connection closed by server\n",
      "2025-01-06 16:42:10,380 - IBKRWrapper - ERROR - Error 2103: Market data farm connection is broken:usfuture\n",
      "2025-01-06 16:42:10,381 - IBKRWrapper - ERROR - Error 2103: Market data farm connection is broken:cashfarm\n",
      "2025-01-06 16:42:10,382 - IBKRWrapper - ERROR - Error 2103: Market data farm connection is broken:usfarm\n",
      "2025-01-06 16:42:10,382 - IBKRWrapper - ERROR - Error 2105: HMDS data farm connection is broken:euhmds\n",
      "2025-01-06 16:42:10,382 - IBKRWrapper - ERROR - Error 2105: HMDS data farm connection is broken:fundfarm\n",
      "2025-01-06 16:42:10,382 - IBKRWrapper - ERROR - Error 2105: HMDS data farm connection is broken:ushmds\n",
      "2025-01-06 16:42:10,383 - IBKRWrapper - ERROR - Error 2157: Sec-def data farm connection is broken:secdefil\n"
     ]
    },
    {
     "name": "stdout",
     "output_type": "stream",
     "text": [
      "Next Valid Order ID: 11\n"
     ]
    },
    {
     "name": "stderr",
     "output_type": "stream",
     "text": [
      "2025-01-06 16:42:11,377 - tradingApp - ERROR - Error starting trading: 'TradingEngine' object has no attribute 'interval'\n"
     ]
    },
    {
     "data": {
      "text/plain": [
       "{'status': 'error',\n",
       " 'message': \"'TradingEngine' object has no attribute 'interval'\"}"
      ]
     },
     "execution_count": 4,
     "metadata": {},
     "output_type": "execute_result"
    },
    {
     "name": "stderr",
     "output_type": "stream",
     "text": [
      "2025-01-06 16:42:40,391 - ibapi.client - INFO - sent startApi\n",
      "2025-01-06 16:42:40,392 - ibapi.client - INFO - REQUEST startApi {}\n",
      "2025-01-06 16:42:40,393 - ibapi.client - INFO - SENDING startApi b'\\x00\\x00\\x00\\x0871\\x002\\x001\\x00\\x00'\n",
      "2025-01-06 16:42:40,394 - IBKRWrapper - INFO - Connected to IBKR\n",
      "2025-01-06 16:42:40,394 - IBKRWrapper - INFO - Successfully reconnected\n"
     ]
    }
   ],
   "source": [
    "interval = '15 mins'\n",
    "app.start_trading(interval)"
   ]
  },
  {
   "cell_type": "code",
   "execution_count": 7,
   "id": "cbf8086e-c3a3-492c-a83a-eddcec5fb0c5",
   "metadata": {},
   "outputs": [
    {
     "data": {
      "text/plain": [
       "[Trend(start_idx=8, end_idx=22, trend_type='uptrend', confirmation_idx=17),\n",
       " Trend(start_idx=49, end_idx=64, trend_type='uptrend', confirmation_idx=54),\n",
       " Trend(start_idx=87, end_idx=100, trend_type='uptrend', confirmation_idx=98),\n",
       " Trend(start_idx=117, end_idx=137, trend_type='uptrend', confirmation_idx=130),\n",
       " Trend(start_idx=153, end_idx=184, trend_type='uptrend', confirmation_idx=181),\n",
       " Trend(start_idx=198, end_idx=213, trend_type='uptrend', confirmation_idx=208),\n",
       " Trend(start_idx=229, end_idx=247, trend_type='uptrend', confirmation_idx=236)]"
      ]
     },
     "execution_count": 7,
     "metadata": {},
     "output_type": "execute_result"
    }
   ],
   "source": [
    "app.uptrends"
   ]
  },
  {
   "cell_type": "code",
   "execution_count": 5,
   "id": "a2b5e374-5228-4558-b88c-54f071fa4c12",
   "metadata": {},
   "outputs": [
    {
     "name": "stderr",
     "output_type": "stream",
     "text": [
      "2025-01-06 14:33:34,430 - ibapi.client - INFO - disconnecting\n",
      "2025-01-06 14:33:34,434 - IBKRWrapper - WARNING - Connection closed by server\n",
      "2025-01-06 14:33:34,435 - IBKRWrapper - WARNING - Main connection lost. Attempting to reconnect...\n",
      "2025-01-06 14:33:34,436 - IBKRWrapper - INFO - Reconnection attempt 1/5\n",
      "2025-01-06 14:34:04,448 - ibapi.client - INFO - sent startApi\n",
      "2025-01-06 14:34:04,448 - ibapi.client - INFO - REQUEST startApi {}\n",
      "2025-01-06 14:34:04,449 - ibapi.client - INFO - SENDING startApi b'\\x00\\x00\\x00\\x0871\\x002\\x001\\x00\\x00'\n",
      "2025-01-06 14:34:04,453 - IBKRWrapper - INFO - Connected to IBKR\n",
      "2025-01-06 14:34:04,454 - IBKRWrapper - INFO - Successfully reconnected\n"
     ]
    }
   ],
   "source": [
    "app.trading_engine.app.disconnect()"
   ]
  },
  {
   "cell_type": "code",
   "execution_count": 3,
   "id": "b5d34911-0040-43c2-9e86-2112857fdc1b",
   "metadata": {},
   "outputs": [
    {
     "data": {
      "text/plain": [
       "[{'name': 'BollingerBands',\n",
       "  'params': {'window': 20, 'num_std': 2, 'position_size': 100}},\n",
       " {'name': 'MACDStoch',\n",
       "  'params': {'fast_period': 12,\n",
       "   'slow_period': 26,\n",
       "   'signal_period': 9,\n",
       "   'stoch_k_period': 14,\n",
       "   'stoch_d_period': 3,\n",
       "   'atr_period': 60,\n",
       "   'stoch_oversold': 30,\n",
       "   'position_size': 10000}},\n",
       " {'name': 'MACD',\n",
       "  'params': {'fast_period': 12,\n",
       "   'slow_period': 26,\n",
       "   'signal_period': 9,\n",
       "   'position_size': 100}},\n",
       " {'name': 'RSI',\n",
       "  'params': {'rsi_period': 14,\n",
       "   'overbought': 70,\n",
       "   'oversold': 30,\n",
       "   'position_size': 100}},\n",
       " {'name': 'VWAP',\n",
       "  'params': {'window': 20, 'std_dev_multiplier': 2, 'position_size': 100}}]"
      ]
     },
     "execution_count": 3,
     "metadata": {},
     "output_type": "execute_result"
    }
   ],
   "source": [
    "app.get_strategies()"
   ]
  },
  {
   "cell_type": "code",
   "execution_count": 3,
   "id": "0b747ac4-4b80-44c3-b16c-918f4672db84",
   "metadata": {},
   "outputs": [
    {
     "name": "stderr",
     "output_type": "stream",
     "text": [
      "2025-01-05 20:16:21,466 - tradingApp - INFO - Loaded 1602 rows of historical data from stock_data_MSFT/MSFT_None_to_20241222 12:53:03_intraday.csv\n",
      "2025-01-05 20:16:21,467 - tradingApp - INFO - Period: 20241121 16:30:00 to 20241220 22:55:00\n",
      "2025-01-05 20:16:21,470 - tradingApp - INFO - Loaded 251 rows of historical data from stock_data_MSFT/MSFT_None_to_20241222 12:53:03_daily.csv\n",
      "2025-01-05 20:16:21,471 - tradingApp - INFO - Period: 20231222 00:00:00 to 20241220 00:00:00\n",
      "2025-01-05 20:16:21,650 - tradingApp - INFO - Strategy registered: RSI for MSFT\n"
     ]
    },
    {
     "ename": "NameError",
     "evalue": "name 'best_parameters' is not defined",
     "output_type": "error",
     "traceback": [
      "\u001b[0;31m---------------------------------------------------------------------------\u001b[0m",
      "\u001b[0;31mNameError\u001b[0m                                 Traceback (most recent call last)",
      "Cell \u001b[0;32mIn[3], line 27\u001b[0m\n\u001b[1;32m     16\u001b[0m \u001b[38;5;66;03m# Run optimization\u001b[39;00m\n\u001b[1;32m     17\u001b[0m result \u001b[38;5;241m=\u001b[39m optimizer\u001b[38;5;241m.\u001b[39moptimize(\n\u001b[1;32m     18\u001b[0m     strategy_type\u001b[38;5;241m=\u001b[39m\u001b[38;5;124m'\u001b[39m\u001b[38;5;124mRSI\u001b[39m\u001b[38;5;124m'\u001b[39m,\n\u001b[1;32m     19\u001b[0m     param_ranges\u001b[38;5;241m=\u001b[39mparam_ranges,\n\u001b[0;32m   (...)\u001b[0m\n\u001b[1;32m     24\u001b[0m     period\u001b[38;5;241m=\u001b[39m\u001b[38;5;124m'\u001b[39m\u001b[38;5;124m1 M\u001b[39m\u001b[38;5;124m'\u001b[39m\n\u001b[1;32m     25\u001b[0m )\n\u001b[0;32m---> 27\u001b[0m \u001b[38;5;28mprint\u001b[39m(\u001b[38;5;124m\"\u001b[39m\u001b[38;5;124mOptimal Parameters:\u001b[39m\u001b[38;5;124m\"\u001b[39m, result[\u001b[43mbest_parameters\u001b[49m])\n",
      "\u001b[0;31mNameError\u001b[0m: name 'best_parameters' is not defined"
     ]
    }
   ],
   "source": [
    "# Initialize optimizer\n",
    "from strategies import RSIStrategy\n",
    "optimizer = Optimizer(app)\n",
    "\n",
    "# Define parameter ranges\n",
    "param_ranges = {\n",
    "    'rsi_period': (10, 30, 10),\n",
    "    'overbought': (60, 80, 10),\n",
    "    'oversold': (20, 40, 10),\n",
    "    'position_size': (50, 200, 50)\n",
    "}\n",
    "\n",
    "# Initial guess\n",
    "initial_guess = [14, 70, 30, 100]\n",
    "\n",
    "# Run optimization\n",
    "result = optimizer.optimize(\n",
    "    strategy_type='RSI',\n",
    "    param_ranges=param_ranges,\n",
    "    initial_guess=initial_guess,\n",
    "    symbol=\"MSFT\",\n",
    "    optimize_target=OptimizeTarget.NET_PROFIT,\n",
    "    interval='15 mins',\n",
    "    period='1 M'\n",
    ")\n",
    "\n",
    "print(\"Optimal Parameters:\", result[best_parameters])"
   ]
  },
  {
   "cell_type": "code",
   "execution_count": 4,
   "id": "c9bb2f6a-9efc-4195-aeb8-0498813b65de",
   "metadata": {},
   "outputs": [
    {
     "data": {
      "text/plain": [
       "OptimizationResult(best_parameters={'rsi_period': 30, 'overbought': 80, 'oversold': 40, 'position_size': 50}, best_performance={'status': 'success', 'data': {'metrics': {'Total': {'profits': 7492.05, 'losses': 469.22, 'net_profit': 7022.83, 'profit_pct': 7.03, 'winning_rate': 75.0, 'max_loss': -469.22, 'total_trades': 4, 'winning_trades': 3, 'losing_trades': 1, 'even_trades': 0, 'num_trends': 3, 'num_trends_intraday': 1, 'avg_trade': 1755.71, 'avg_winning_trade': 2497.35, 'avg_losing_trade': -469.22, 'win_loss_ratio': 5.32}, 'Long': {'profits': 7492.05, 'losses': 469.22, 'net_profit': 7022.83, 'profit_pct': 7.03, 'winning_rate': 75.0, 'max_loss': -469.22, 'total_trades': 4, 'winning_trades': 3, 'losing_trades': 1, 'even_trades': 0, 'num_trends': 3, 'num_trends_intraday': 1, 'avg_trade': 1755.71, 'avg_winning_trade': 2497.35, 'avg_losing_trade': -469.22, 'win_loss_ratio': 5.32}, 'Short': {'profits': 0, 'losses': 0, 'net_profit': 0, 'profit_pct': 0, 'winning_rate': 0, 'max_loss': 0, 'total_trades': 0, 'winning_trades': 0, 'losing_trades': 0, 'even_trades': 0, 'num_trends': 0, 'num_trends_intraday': 0, 'avg_trade': 0, 'avg_winning_trade': 0, 'avg_losing_trade': 0, 'win_loss_ratio': 0}}, 'current_capital': 107080.46, 'max_drawdown': 5961.743201735779, 'start_date': None, 'end_date': '20250105 20:16:37', 'initial_capital': 100000}}, target='Net Profit', score=-7080.460000000006, metrics={'Total': {'profits': 7492.05, 'losses': 469.22, 'net_profit': 7022.83, 'profit_pct': 7.03, 'winning_rate': 75.0, 'max_loss': -469.22, 'total_trades': 4, 'winning_trades': 3, 'losing_trades': 1, 'even_trades': 0, 'num_trends': 3, 'num_trends_intraday': 1, 'avg_trade': 1755.71, 'avg_winning_trade': 2497.35, 'avg_losing_trade': -469.22, 'win_loss_ratio': 5.32}, 'Long': {'profits': 7492.05, 'losses': 469.22, 'net_profit': 7022.83, 'profit_pct': 7.03, 'winning_rate': 75.0, 'max_loss': -469.22, 'total_trades': 4, 'winning_trades': 3, 'losing_trades': 1, 'even_trades': 0, 'num_trends': 3, 'num_trends_intraday': 1, 'avg_trade': 1755.71, 'avg_winning_trade': 2497.35, 'avg_losing_trade': -469.22, 'win_loss_ratio': 5.32}, 'Short': {'profits': 0, 'losses': 0, 'net_profit': 0, 'profit_pct': 0, 'winning_rate': 0, 'max_loss': 0, 'total_trades': 0, 'winning_trades': 0, 'losing_trades': 0, 'even_trades': 0, 'num_trends': 0, 'num_trends_intraday': 0, 'avg_trade': 0, 'avg_winning_trade': 0, 'avg_losing_trade': 0, 'win_loss_ratio': 0}}, max_drawdown=5961.743201735779)"
      ]
     },
     "execution_count": 4,
     "metadata": {},
     "output_type": "execute_result"
    }
   ],
   "source": [
    "result"
   ]
  },
  {
   "cell_type": "code",
   "execution_count": null,
   "id": "20265572-200b-4b11-8b28-c1b1b2f6e638",
   "metadata": {},
   "outputs": [],
   "source": []
  }
 ],
 "metadata": {
  "kernelspec": {
   "display_name": "Python 3 (ipykernel)",
   "language": "python",
   "name": "python3"
  },
  "language_info": {
   "codemirror_mode": {
    "name": "ipython",
    "version": 3
   },
   "file_extension": ".py",
   "mimetype": "text/x-python",
   "name": "python",
   "nbconvert_exporter": "python",
   "pygments_lexer": "ipython3",
   "version": "3.12.4"
  }
 },
 "nbformat": 4,
 "nbformat_minor": 5
}
